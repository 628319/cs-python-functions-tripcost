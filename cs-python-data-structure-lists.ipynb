{
 "cells": [
  {
   "cell_type": "markdown",
   "metadata": {},
   "source": [
    "# Lists\n",
    "\n",
    "## List Exercises\n",
    "For all of these exercises you will need either\n",
    "\n",
    "1) A list of numbers: numList = [1,5,6,2,3,4,5]\n",
    "\n",
    "2) A list of strings: wordList = [\"apple\", \"banana\", \"grape\", \"cinnamon\", \"apple\", \"eggplant\", \"falafel\", \"grape\", \"grape\"]\n",
    "\n",
    "They have been defined for you in the first code cell below"
   ]
  },
  {
   "cell_type": "markdown",
   "metadata": {},
   "source": [
    "## Task 1: What error do you get when you run the code below? How will you define this error?"
   ]
  },
  {
   "cell_type": "code",
   "execution_count": null,
   "metadata": {
    "scrolled": true
   },
   "outputs": [],
   "source": [
    "numList = [1,5,6,2,3,4,5]\n",
    "x = len(numList)\n",
    "print(x)\n",
    "print(numList[5])\n",
    "print (numList[9])"
   ]
  },
  {
   "cell_type": "markdown",
   "metadata": {},
   "source": [
    "## Iterating through the list and displaying the data items. "
   ]
  },
  {
   "cell_type": "code",
   "execution_count": null,
   "metadata": {},
   "outputs": [],
   "source": [
    "numList = [1,5,6,2,3,4,5]\n",
    "\n",
    "for x in numList: \n",
    "    print(x)"
   ]
  },
  {
   "cell_type": "code",
   "execution_count": null,
   "metadata": {},
   "outputs": [],
   "source": [
    "wordList = [\"apple\", \"banana\", \"grape\", \"cinnamon\", \"apple\", \"eggplant\", \"falafel\", \"grape\", \"grape\"]\n",
    " \n",
    "for i in range(len(wordList)):\n",
    "    print(wordList[i])"
   ]
  },
  {
   "cell_type": "markdown",
   "metadata": {},
   "source": [
    "## Task 2:  list1 and list 2 are defined. Append and extend methods to add items in the list. Comment the code below explaining the difference between append and extend methods."
   ]
  },
  {
   "cell_type": "code",
   "execution_count": 6,
   "metadata": {},
   "outputs": [
    {
     "name": "stdout",
     "output_type": "stream",
     "text": [
      "['elephant', 'tiger', ['cat']]\n",
      "['elephant', 'tiger', 'dog', 'mouse']\n"
     ]
    }
   ],
   "source": [
    "list1 = [\"elephant\", \"tiger\"]                     # A new empty list\n",
    "list1.append([\"cat\"])             # Add a single member, at the end of the list\n",
    "print(list1)\n",
    "\n",
    "list1 = [\"elephant\", \"tiger\"]\n",
    "\n",
    "list1.extend([\"dog\", \"mouse\"])  # Add several members\n",
    "\n",
    "print(list1)"
   ]
  },
  {
   "cell_type": "markdown",
   "metadata": {},
   "source": [
    "## Task 3: Use insert/remove method to add/delete a data item to/from the list "
   ]
  },
  {
   "cell_type": "code",
   "execution_count": null,
   "metadata": {},
   "outputs": [],
   "source": [
    "list1.insert(0, \"fly\")          # Insert at the beginning\n",
    "list1[0:0] = [\"cow\", \"doe\"]     # Add members at the beginning\n",
    "doe = list1.pop(1)              # Remove item at index\n",
    "if \"cat\" in list1:              # Membership test\n",
    "  list1.remove(\"cat\")           # Remove AKA delete\n",
    "\n",
    "print(list1, list2)"
   ]
  },
  {
   "cell_type": "markdown",
   "metadata": {},
   "source": [
    "## How to use in operator in the list"
   ]
  },
  {
   "cell_type": "code",
   "execution_count": null,
   "metadata": {
    "scrolled": true
   },
   "outputs": [],
   "source": [
    "for item in list1:              # Iteration AKA for each item\n",
    "  print(item)\n",
    "print(\"Item count:\", len(list1)) # Length AKA size AKA item count"
   ]
  },
  {
   "cell_type": "markdown",
   "metadata": {},
   "source": [
    "## Task 4: Write a function which finds all string elements in a list matching \"find\" and replaces them with the string \"replace\""
   ]
  },
  {
   "cell_type": "code",
   "execution_count": null,
   "metadata": {},
   "outputs": [],
   "source": [
    "#This function finds all the string elements in a list matching \"find\" and replaces them with the string \"replace\"\n",
    "\n",
    "def listFindReplace(aList, findWord, replaceWord):\n",
    "    newList = [] # a new empty list\n",
    "     #write your code here\n",
    "        \n",
    "    #finally return the new list    \n",
    "    return newList"
   ]
  },
  {
   "cell_type": "code",
   "execution_count": null,
   "metadata": {},
   "outputs": [],
   "source": [
    "#test your code here\n",
    "newList =listFindReplace(wordList, \"grape\", \"ada\")\n",
    "print(newList)\n",
    "newList = listFindReplace([\"hello\", \"hello\", \"hello\"], \"hello\", \"world\")"
   ]
  },
  {
   "cell_type": "markdown",
   "metadata": {},
   "source": [
    "## Slicing Lists \n",
    "## Task 5: Run the code below and comment each line of the code"
   ]
  },
  {
   "cell_type": "code",
   "execution_count": null,
   "metadata": {},
   "outputs": [],
   "source": [
    "myList = [\"apple\", \"banana\", \"grape\", \"cinnamon\", \"apple\", \"eggplant\", \"falafel\", \"grape\", \"grape\"]\n",
    "\n",
    "print(myList[0:8])\n",
    "\n",
    "print(myList[0:len(myList)])\n",
    "\n",
    "print(myList[1:5])\n",
    "\n",
    "print(myList[:])\n",
    "\n",
    "print(myList[4:2])\n",
    "\n",
    "print(myList[4:-2])\n",
    "\n",
    "print(myList[len(myList):0:-1])\n",
    "\n",
    "print(myList[len(myList)::-1])"
   ]
  }
 ],
 "metadata": {
  "kernelspec": {
   "display_name": "Python 3",
   "language": "python",
   "name": "python3"
  },
  "language_info": {
   "codemirror_mode": {
    "name": "ipython",
    "version": 3
   },
   "file_extension": ".py",
   "mimetype": "text/x-python",
   "name": "python",
   "nbconvert_exporter": "python",
   "pygments_lexer": "ipython3",
   "version": "3.6.6"
  }
 },
 "nbformat": 4,
 "nbformat_minor": 2
}
