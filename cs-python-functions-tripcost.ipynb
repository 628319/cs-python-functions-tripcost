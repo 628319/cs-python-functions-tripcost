{
 "cells": [
  {
   "cell_type": "markdown",
   "metadata": {},
   "source": [
    "## Write a program to calcualte the trip costs.\n",
    "\n",
    "a) use appropriate variable, constant and function names.\n",
    "b) don't forget to put comments in the code.\n",
    "c) In comments for each function, do mention the purpose the function, the input parameters and the return value from the function\n"
   ]
  },
  {
   "cell_type": "code",
   "execution_count": null,
   "metadata": {},
   "outputs": [],
   "source": [
    "# add comments below\n",
    "nights= input(\"Enter nights:\")\n",
    "city= input(\"Enter city:\")\n",
    "days= input (\"Enter days of car rental:\")\n",
    "dailySpend=raw_input(\"Enter money:\")\n",
    "\n",
    "\n",
    "def hotel_cost(nights):\n",
    "    return 140*nights\n",
    "\n",
    "def plane_ride_cost(city):\n",
    "    if city==\"Madrid\":\n",
    "        return 270\n",
    "    elif city==\"Paris\":\n",
    "        return 280\n",
    "    elif city==\"Berlin\":\n",
    "        return 220\n",
    "    elif city==\"Edinburgh\":\n",
    "        return 150\n",
    "\n",
    "\n",
    "# use constant names instead of numbers\n",
    "def rental_car_cost(days):\n",
    "    cost=days*40\n",
    "    # add 50 pounds discount?\n",
    "    if days >= 7:\n",
    "        cost -= 50\n",
    "    elif days>=3:\n",
    "        # add 20 pounds discount? \n",
    "        cost-=20\n",
    "    return cost\n",
    "\n",
    "# write other costs for the trip (food, rides, museum)\n",
    "# define your function for other costs\n",
    "\n",
    "\n",
    "# add other costs in the trip costs\n",
    "def trip_cost(city,days, othercosts):\n",
    "    print( rental_car_cost(days)+hotel_cost(days)+plane_ride_cost(city) )\n",
    "\n",
    "# write the main program and call the functions appropriately  \n",
    "\n",
    "\n"
   ]
  },
  {
   "cell_type": "code",
   "execution_count": null,
   "metadata": {},
   "outputs": [],
   "source": []
  }
 ],
 "metadata": {
  "kernelspec": {
   "display_name": "Python 3",
   "language": "python",
   "name": "python3"
  },
  "language_info": {
   "codemirror_mode": {
    "name": "ipython",
    "version": 3
   },
   "file_extension": ".py",
   "mimetype": "text/x-python",
   "name": "python",
   "nbconvert_exporter": "python",
   "pygments_lexer": "ipython3",
   "version": "3.6.5"
  }
 },
 "nbformat": 4,
 "nbformat_minor": 2
}
